{
 "cells": [
  {
   "cell_type": "markdown",
   "metadata": {},
   "source": [
    "# Limpeza dos dados\n",
    "\n",
    "Neste notebook estão algumas operações para a limpeza dos dados obtidos.\n",
    "\n",
    "Global Biotic Interactions - Os dados limpos para as interações podem ser encontrados nesse [link](https://drive.google.com/file/d/1YhU8QPXXilg4icozIvttXu2hyfm_0yOC/view?usp=sharing)\n",
    "\n",
    "Red List - Os dados limpos podem ser encontrados nesse [link](https://drive.google.com/file/d/19c4ObCxYTxyAP99bOWejaXKKrvbN8_3M/view?usp=sharing)\n",
    "\n",
    "## Interações (Global Biotic Interactions)\n",
    "\n",
    "Esses dados são fornecidos na forma de um arquivo csv contendo em forma de pares as interações entre diferentes seres no meio ambiente. Como o arquivo fornecido inicialmente era muito grande (aproximadamente 14 GB) para possibilitar o manuseio de forma prática, o primeiro passo adotado foi excluir algumas colunas extras contidas no arquivo, mantendo somente os dados referentes aos animais e o tipo de interação que havia entre eles. Para isso, foi utilizada a ferramenta `miller` extrair somente as colunas desejadas do csv. Com o arquivo reduzido para conter somente as informações necessárias, é possível carregar os dados resultantes da seguinte maneira:"
   ]
  },
  {
   "cell_type": "code",
   "execution_count": null,
   "metadata": {},
   "outputs": [],
   "source": [
    "import pandas as pd\n",
    "\n",
    "interactions_df = pd.read_csv('../../interactions.csv')\n",
    "interactions_df"
   ]
  },
  {
   "cell_type": "markdown",
   "metadata": {},
   "source": [
    "No entanto, esses dados ainda contém linhas com informações faltantes, o que pode não ser tão útil. Então, para limpar essa tabela foram removidas todas as linhas contendo dados faltantes nas colunas que indicam o nome científico dos animais que participam da interação e a classificação da interação que ocorre entre eles."
   ]
  },
  {
   "cell_type": "code",
   "execution_count": null,
   "metadata": {},
   "outputs": [],
   "source": [
    "interactions_df = interactions_df.dropna(subset=['sourceTaxonSpeciesName', 'interactionTypeName', 'targetTaxonSpeciesName'])\n",
    "interactions_df"
   ]
  },
  {
   "cell_type": "code",
   "execution_count": null,
   "metadata": {},
   "outputs": [],
   "source": [
    "interactions_df.info()"
   ]
  },
  {
   "cell_type": "markdown",
   "metadata": {},
   "source": [
    "O nome das espécies e dos reinos nem sempre é escrito da mesma forma e as vezes contém erros, como espaços duplos, então é preciso corrigí-los."
   ]
  },
  {
   "cell_type": "code",
   "execution_count": null,
   "metadata": {},
   "outputs": [],
   "source": [
    "import re\n",
    "def normalize_species_name(s):\n",
    "    s = re.sub('\\(.*\\)', '', s) # Remove parentese\n",
    "    s = s.lower() # Passa pra minusculo\n",
    "    s = s.replace('[?�]', '') # Remove ?\n",
    "    s = re.sub('\\s+', ' ', s) # Usa sempre apenas 1 espaços\n",
    "    s = re.sub('= .* ', '', s) # Remove termos da forma =PALAVRA \n",
    "    s = re.sub('= .*,', ',', s) # Remove termos da forma =PALAVRA,\n",
    "    s = s.strip() # Remove espaços no começo e fim\n",
    "    return s\n",
    "interactions_df.sourceTaxonSpeciesName = interactions_df.sourceTaxonSpeciesName.apply(normalize_species_name)\n",
    "interactions_df.targetTaxonSpeciesName = interactions_df.targetTaxonSpeciesName.apply(normalize_species_name)\n",
    "interactions_df"
   ]
  },
  {
   "cell_type": "markdown",
   "metadata": {},
   "source": [
    "Além disso, os dados obtidos podem ter ocorrências repetidas. Para evitar recontar uma mesma interação entre dois animais, serão removidas todas as interações que contenham a mesma fonte, o mesmo alvo e a mesma ação."
   ]
  },
  {
   "cell_type": "code",
   "execution_count": null,
   "metadata": {},
   "outputs": [],
   "source": [
    "interactions_df = interactions_df.drop_duplicates(subset=['sourceTaxonSpeciesName', 'interactionTypeName', 'targetTaxonSpeciesName'], keep=\"first\")\n",
    "interactions_df"
   ]
  },
  {
   "cell_type": "markdown",
   "metadata": {},
   "source": [
    "Outro ponto a se atentar é que algumas espécies são marcadas como **não identificadas**. Como isso não contribuirá diretamente para a análise, interações com espécies não identificadas serão removidas."
   ]
  },
  {
   "cell_type": "code",
   "execution_count": null,
   "metadata": {},
   "outputs": [],
   "source": [
    "unidentified_source = interactions_df.sourceTaxonSpeciesName.str.contains('unidentified')\n",
    "interactions_df = interactions_df[~unidentified_source]\n",
    "\n",
    "unknown_source = interactions_df.sourceTaxonSpeciesName.str.contains('unknown')\n",
    "interactions_df = interactions_df[~unknown_source]\n",
    "\n",
    "na_source = interactions_df.sourceTaxonSpeciesName.str.contains('n/a n/a')\n",
    "interactions_df = interactions_df[~na_source]\n",
    "\n",
    "num_no_source = sum(map(sum, [unidentified_source, unknown_source, na_source]))\n",
    "print('Total de interações onde a fonte não foi identificada:', num_no_source)\n",
    "\n",
    "\n",
    "unidentified_target = interactions_df.targetTaxonSpeciesName.str.contains('unidentified')\n",
    "interactions_df = interactions_df[~unidentified_target]\n",
    "\n",
    "unknown_target = interactions_df.targetTaxonSpeciesName.str.contains('unknown')\n",
    "interactions_df = interactions_df[~unknown_target]\n",
    "\n",
    "na_target = interactions_df.targetTaxonSpeciesName.str.contains('n/a n/a')\n",
    "interactions_df = interactions_df[~na_target]\n",
    "\n",
    "num_no_target = sum(map(sum, [unidentified_target, unknown_target, na_target]))\n",
    "print('Total de interações onde o alvo não foi identificado:', num_no_target)\n",
    "\n",
    "interactions_df"
   ]
  },
  {
   "cell_type": "markdown",
   "metadata": {},
   "source": [
    "Algumas espécies têm registradas interações com elas mesmas, mas essas interações não contribuem para nossa análise e são removidas."
   ]
  },
  {
   "cell_type": "code",
   "execution_count": null,
   "metadata": {},
   "outputs": [],
   "source": [
    "self_interactions = interactions_df.query('sourceTaxonSpeciesName == targetTaxonSpeciesName')\n",
    "print(\"Total de interações com a mesma espécie: {}\".format(len(self_interactions)))\n",
    "\n",
    "interactions_df = interactions_df.drop(self_interactions.index)\n",
    "interactions_df"
   ]
  },
  {
   "cell_type": "markdown",
   "metadata": {},
   "source": [
    "Por fim, os dados são salvos mais uma vez em disco."
   ]
  },
  {
   "cell_type": "code",
   "execution_count": null,
   "metadata": {},
   "outputs": [],
   "source": [
    "interactions_df.to_csv('../../clean-interactions.csv', index=False)"
   ]
  },
  {
   "cell_type": "markdown",
   "metadata": {},
   "source": [
    "## Red list (IUCN)\n",
    "\n",
    "Para os dados da Red List, as informações sobre a condição das espécies e as suas localizações foram obtidas de forma separada. Assim, o primeiro passo foi carregar os dados sobre a condição das populações de cada espécie e excluir as colunas com dados que não serão utilizados, como versão do critério ou a língua na qual o critério foi publicado."
   ]
  },
  {
   "cell_type": "code",
   "execution_count": null,
   "metadata": {},
   "outputs": [],
   "source": [
    "import pandas as pd\n",
    "\n",
    "redlist_df = pd.read_csv('../../redlist_species_data_83aad1b1-09d6-4283-b629-0ccacb10797b/assessments.csv')\n",
    "redlist_df = redlist_df[['scientificName', 'redlistCategory', 'populationTrend', 'systems', 'realm', 'possiblyExtinct', 'possiblyExtinctInTheWild']]\n",
    "redlist_df"
   ]
  },
  {
   "cell_type": "markdown",
   "metadata": {},
   "source": [
    "Em seguida, carregaram-se os dados de localização das espécies, de onde foram extraídas as colunas contendo o nome científico das espécies e a latitude e longitude da sua localização. Como algumas espécies podem ser encontradas em mais de uma posição, todas as coordenadas foram mantidas na forma de uma lista."
   ]
  },
  {
   "cell_type": "code",
   "execution_count": null,
   "metadata": {},
   "outputs": [],
   "source": [
    "locations_df = pd.read_csv('../../redlist_species_data_919f6e77-bd6b-4134-acc2-b615e7170293/points_data.csv')\n",
    "locations_df = locations_df[['binomial', 'longitude', 'latitude']]\n",
    "locations_df = locations_df.groupby(by='binomial').agg(lambda x: list(x))\n",
    "locations_df"
   ]
  },
  {
   "cell_type": "markdown",
   "metadata": {},
   "source": [
    "Após isso, a informação da localização das espécies foi combinada ao restante da tabela, resultando no seguinte:"
   ]
  },
  {
   "cell_type": "code",
   "execution_count": null,
   "metadata": {},
   "outputs": [],
   "source": [
    "redlist_df = redlist_df.join(locations_df, on='scientificName')\n",
    "redlist_df"
   ]
  },
  {
   "cell_type": "markdown",
   "metadata": {},
   "source": [
    "Por fim, a tabela com os dados organizados foi salva novamente em disco."
   ]
  },
  {
   "cell_type": "code",
   "execution_count": null,
   "metadata": {},
   "outputs": [],
   "source": [
    "redlist_df.to_csv('../../clean-redlist.csv')"
   ]
  }
 ],
 "metadata": {
  "interpreter": {
   "hash": "767d51c1340bd893661ea55ea3124f6de3c7a262a8b4abca0554b478b1e2ff90"
  },
  "kernelspec": {
   "display_name": "Python 3",
   "language": "python",
   "name": "python3"
  },
  "language_info": {
   "codemirror_mode": {
    "name": "ipython",
    "version": 3
   },
   "file_extension": ".py",
   "mimetype": "text/x-python",
   "name": "python",
   "nbconvert_exporter": "python",
   "pygments_lexer": "ipython3",
   "version": "3.7.11"
  }
 },
 "nbformat": 4,
 "nbformat_minor": 2
}
