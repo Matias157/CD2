{
 "metadata": {
  "language_info": {
   "codemirror_mode": {
    "name": "ipython",
    "version": 3
   },
   "file_extension": ".py",
   "mimetype": "text/x-python",
   "name": "python",
   "nbconvert_exporter": "python",
   "pygments_lexer": "ipython3",
   "version": "3.9.6"
  },
  "orig_nbformat": 4,
  "kernelspec": {
   "name": "python3",
   "display_name": "Python 3.9.6 64-bit"
  },
  "interpreter": {
   "hash": "767d51c1340bd893661ea55ea3124f6de3c7a262a8b4abca0554b478b1e2ff90"
  }
 },
 "nbformat": 4,
 "nbformat_minor": 2,
 "cells": [
  {
   "source": [
    "# Limpeza dos dados\n",
    "\n",
    "Neste notebook estão algumas operações para a limpeza dos dados obtidos.\n",
    "\n",
    "Global Biotic Interactions - Os dados limpos para as interações podem ser encontrados nesse [link](https://drive.google.com/file/d/1YhU8QPXXilg4icozIvttXu2hyfm_0yOC/view?usp=sharing)\n",
    "\n",
    "## Interações (Global Biotic Interactions)\n",
    "\n",
    "Esses dados são fornecidos na forma de um arquivo csv contendo em forma de pares as interações entre diferentes seres no meio ambiente. Como o arquivo fornecido inicialmente era muito grande (aproximadamente 14 GB) para possibilitar o manuseio de forma prática, o primeiro passo adotado foi excluir algumas colunas extras contidas no arquivo, mantendo somente os dados referentes aos animais e o tipo de interação que havia entre eles. Para isso, foi utilizada a ferramenta `miller` extrair somente as colunas desejadas do csv. Com o arquivo reduzido para conter somente as informações necessárias, é possível carregar os dados resultantes da seguinte maneira:"
   ],
   "cell_type": "markdown",
   "metadata": {}
  },
  {
   "cell_type": "code",
   "execution_count": 1,
   "metadata": {},
   "outputs": [
    {
     "output_type": "execute_result",
     "data": {
      "text/plain": [
       "         sourceTaxonSpeciesName sourceTaxonKingdomName interactionTypeName  \\\n",
       "0         Andrena milwaukeensis               Animalia     visitsFlowersOf   \n",
       "1          Andrena mandibularis               Animalia     visitsFlowersOf   \n",
       "2              Andrena edwardsi               Animalia     visitsFlowersOf   \n",
       "3          Andrena mandibularis               Animalia     visitsFlowersOf   \n",
       "4         Andrena milwaukeensis               Animalia     visitsFlowersOf   \n",
       "...                         ...                    ...                 ...   \n",
       "7822665    Calyptra orthograpta               Animalia                eats   \n",
       "7822666    Calyptra orthograpta               Animalia                eats   \n",
       "7822667          Calyptra parva               Animalia                eats   \n",
       "7822668  Calyptra pseudobicolor               Animalia                eats   \n",
       "7822669   Calyptra ophideroides               Animalia                eats   \n",
       "\n",
       "         targetTaxonSpeciesName targetTaxonKingdomName  \n",
       "0                   Zizia aurea                Plantae  \n",
       "1        Zanthoxylum americanum                Plantae  \n",
       "2                Wyethia mollis                Plantae  \n",
       "3             Viburnum dentatum                Plantae  \n",
       "4              Viburnum lentago                Plantae  \n",
       "...                         ...                    ...  \n",
       "7822665         Cervus unicolor               Animalia  \n",
       "7822666         Elephas maximus               Animalia  \n",
       "7822667                     NaN               Animalia  \n",
       "7822668            Homo sapiens               Animalia  \n",
       "7822669            Homo sapiens               Animalia  \n",
       "\n",
       "[7822670 rows x 5 columns]"
      ],
      "text/html": "<div>\n<style scoped>\n    .dataframe tbody tr th:only-of-type {\n        vertical-align: middle;\n    }\n\n    .dataframe tbody tr th {\n        vertical-align: top;\n    }\n\n    .dataframe thead th {\n        text-align: right;\n    }\n</style>\n<table border=\"1\" class=\"dataframe\">\n  <thead>\n    <tr style=\"text-align: right;\">\n      <th></th>\n      <th>sourceTaxonSpeciesName</th>\n      <th>sourceTaxonKingdomName</th>\n      <th>interactionTypeName</th>\n      <th>targetTaxonSpeciesName</th>\n      <th>targetTaxonKingdomName</th>\n    </tr>\n  </thead>\n  <tbody>\n    <tr>\n      <th>0</th>\n      <td>Andrena milwaukeensis</td>\n      <td>Animalia</td>\n      <td>visitsFlowersOf</td>\n      <td>Zizia aurea</td>\n      <td>Plantae</td>\n    </tr>\n    <tr>\n      <th>1</th>\n      <td>Andrena mandibularis</td>\n      <td>Animalia</td>\n      <td>visitsFlowersOf</td>\n      <td>Zanthoxylum americanum</td>\n      <td>Plantae</td>\n    </tr>\n    <tr>\n      <th>2</th>\n      <td>Andrena edwardsi</td>\n      <td>Animalia</td>\n      <td>visitsFlowersOf</td>\n      <td>Wyethia mollis</td>\n      <td>Plantae</td>\n    </tr>\n    <tr>\n      <th>3</th>\n      <td>Andrena mandibularis</td>\n      <td>Animalia</td>\n      <td>visitsFlowersOf</td>\n      <td>Viburnum dentatum</td>\n      <td>Plantae</td>\n    </tr>\n    <tr>\n      <th>4</th>\n      <td>Andrena milwaukeensis</td>\n      <td>Animalia</td>\n      <td>visitsFlowersOf</td>\n      <td>Viburnum lentago</td>\n      <td>Plantae</td>\n    </tr>\n    <tr>\n      <th>...</th>\n      <td>...</td>\n      <td>...</td>\n      <td>...</td>\n      <td>...</td>\n      <td>...</td>\n    </tr>\n    <tr>\n      <th>7822665</th>\n      <td>Calyptra orthograpta</td>\n      <td>Animalia</td>\n      <td>eats</td>\n      <td>Cervus unicolor</td>\n      <td>Animalia</td>\n    </tr>\n    <tr>\n      <th>7822666</th>\n      <td>Calyptra orthograpta</td>\n      <td>Animalia</td>\n      <td>eats</td>\n      <td>Elephas maximus</td>\n      <td>Animalia</td>\n    </tr>\n    <tr>\n      <th>7822667</th>\n      <td>Calyptra parva</td>\n      <td>Animalia</td>\n      <td>eats</td>\n      <td>NaN</td>\n      <td>Animalia</td>\n    </tr>\n    <tr>\n      <th>7822668</th>\n      <td>Calyptra pseudobicolor</td>\n      <td>Animalia</td>\n      <td>eats</td>\n      <td>Homo sapiens</td>\n      <td>Animalia</td>\n    </tr>\n    <tr>\n      <th>7822669</th>\n      <td>Calyptra ophideroides</td>\n      <td>Animalia</td>\n      <td>eats</td>\n      <td>Homo sapiens</td>\n      <td>Animalia</td>\n    </tr>\n  </tbody>\n</table>\n<p>7822670 rows × 5 columns</p>\n</div>"
     },
     "metadata": {},
     "execution_count": 1
    }
   ],
   "source": [
    "import pandas as pd\n",
    "\n",
    "interactions_df = pd.read_csv('../../interactions.csv')\n",
    "interactions_df"
   ]
  },
  {
   "source": [
    "No entanto, esses dados ainda contém linhas com informações faltantes, o que pode não ser tão útil. Então, para limpar essa tabela foram removidas todas as linhas contendo dados faltantes nas colunas que indicam o nome científico dos animais que participam da interação e a classificação da interação que ocorre entre eles."
   ],
   "cell_type": "markdown",
   "metadata": {}
  },
  {
   "cell_type": "code",
   "execution_count": 3,
   "metadata": {},
   "outputs": [
    {
     "output_type": "execute_result",
     "data": {
      "text/plain": [
       "         sourceTaxonSpeciesName sourceTaxonKingdomName interactionTypeName  \\\n",
       "0         Andrena milwaukeensis               Animalia     visitsFlowersOf   \n",
       "1          Andrena mandibularis               Animalia     visitsFlowersOf   \n",
       "2              Andrena edwardsi               Animalia     visitsFlowersOf   \n",
       "3          Andrena mandibularis               Animalia     visitsFlowersOf   \n",
       "4         Andrena milwaukeensis               Animalia     visitsFlowersOf   \n",
       "...                         ...                    ...                 ...   \n",
       "7822664    Calyptra orthograpta               Animalia                eats   \n",
       "7822665    Calyptra orthograpta               Animalia                eats   \n",
       "7822666    Calyptra orthograpta               Animalia                eats   \n",
       "7822668  Calyptra pseudobicolor               Animalia                eats   \n",
       "7822669   Calyptra ophideroides               Animalia                eats   \n",
       "\n",
       "         targetTaxonSpeciesName targetTaxonKingdomName  \n",
       "0                   Zizia aurea                Plantae  \n",
       "1        Zanthoxylum americanum                Plantae  \n",
       "2                Wyethia mollis                Plantae  \n",
       "3             Viburnum dentatum                Plantae  \n",
       "4              Viburnum lentago                Plantae  \n",
       "...                         ...                    ...  \n",
       "7822664         Bubalus bubalis               Animalia  \n",
       "7822665         Cervus unicolor               Animalia  \n",
       "7822666         Elephas maximus               Animalia  \n",
       "7822668            Homo sapiens               Animalia  \n",
       "7822669            Homo sapiens               Animalia  \n",
       "\n",
       "[3835705 rows x 5 columns]"
      ],
      "text/html": "<div>\n<style scoped>\n    .dataframe tbody tr th:only-of-type {\n        vertical-align: middle;\n    }\n\n    .dataframe tbody tr th {\n        vertical-align: top;\n    }\n\n    .dataframe thead th {\n        text-align: right;\n    }\n</style>\n<table border=\"1\" class=\"dataframe\">\n  <thead>\n    <tr style=\"text-align: right;\">\n      <th></th>\n      <th>sourceTaxonSpeciesName</th>\n      <th>sourceTaxonKingdomName</th>\n      <th>interactionTypeName</th>\n      <th>targetTaxonSpeciesName</th>\n      <th>targetTaxonKingdomName</th>\n    </tr>\n  </thead>\n  <tbody>\n    <tr>\n      <th>0</th>\n      <td>Andrena milwaukeensis</td>\n      <td>Animalia</td>\n      <td>visitsFlowersOf</td>\n      <td>Zizia aurea</td>\n      <td>Plantae</td>\n    </tr>\n    <tr>\n      <th>1</th>\n      <td>Andrena mandibularis</td>\n      <td>Animalia</td>\n      <td>visitsFlowersOf</td>\n      <td>Zanthoxylum americanum</td>\n      <td>Plantae</td>\n    </tr>\n    <tr>\n      <th>2</th>\n      <td>Andrena edwardsi</td>\n      <td>Animalia</td>\n      <td>visitsFlowersOf</td>\n      <td>Wyethia mollis</td>\n      <td>Plantae</td>\n    </tr>\n    <tr>\n      <th>3</th>\n      <td>Andrena mandibularis</td>\n      <td>Animalia</td>\n      <td>visitsFlowersOf</td>\n      <td>Viburnum dentatum</td>\n      <td>Plantae</td>\n    </tr>\n    <tr>\n      <th>4</th>\n      <td>Andrena milwaukeensis</td>\n      <td>Animalia</td>\n      <td>visitsFlowersOf</td>\n      <td>Viburnum lentago</td>\n      <td>Plantae</td>\n    </tr>\n    <tr>\n      <th>...</th>\n      <td>...</td>\n      <td>...</td>\n      <td>...</td>\n      <td>...</td>\n      <td>...</td>\n    </tr>\n    <tr>\n      <th>7822664</th>\n      <td>Calyptra orthograpta</td>\n      <td>Animalia</td>\n      <td>eats</td>\n      <td>Bubalus bubalis</td>\n      <td>Animalia</td>\n    </tr>\n    <tr>\n      <th>7822665</th>\n      <td>Calyptra orthograpta</td>\n      <td>Animalia</td>\n      <td>eats</td>\n      <td>Cervus unicolor</td>\n      <td>Animalia</td>\n    </tr>\n    <tr>\n      <th>7822666</th>\n      <td>Calyptra orthograpta</td>\n      <td>Animalia</td>\n      <td>eats</td>\n      <td>Elephas maximus</td>\n      <td>Animalia</td>\n    </tr>\n    <tr>\n      <th>7822668</th>\n      <td>Calyptra pseudobicolor</td>\n      <td>Animalia</td>\n      <td>eats</td>\n      <td>Homo sapiens</td>\n      <td>Animalia</td>\n    </tr>\n    <tr>\n      <th>7822669</th>\n      <td>Calyptra ophideroides</td>\n      <td>Animalia</td>\n      <td>eats</td>\n      <td>Homo sapiens</td>\n      <td>Animalia</td>\n    </tr>\n  </tbody>\n</table>\n<p>3835705 rows × 5 columns</p>\n</div>"
     },
     "metadata": {},
     "execution_count": 3
    }
   ],
   "source": [
    "interactions_df = interactions_df.dropna(subset=['sourceTaxonSpeciesName', 'interactionTypeName', 'targetTaxonSpeciesName'])\n",
    "interactions_df"
   ]
  },
  {
   "cell_type": "code",
   "execution_count": 4,
   "metadata": {},
   "outputs": [
    {
     "output_type": "stream",
     "name": "stdout",
     "text": [
      "<class 'pandas.core.frame.DataFrame'>\nInt64Index: 3835705 entries, 0 to 7822669\nData columns (total 5 columns):\n #   Column                  Dtype \n---  ------                  ----- \n 0   sourceTaxonSpeciesName  object\n 1   sourceTaxonKingdomName  object\n 2   interactionTypeName     object\n 3   targetTaxonSpeciesName  object\n 4   targetTaxonKingdomName  object\ndtypes: object(5)\nmemory usage: 304.6+ MB\n"
     ]
    }
   ],
   "source": [
    "interactions_df.info()"
   ]
  },
  {
   "source": [
    "Por fim, os dados são salvos mais uma vez em disco."
   ],
   "cell_type": "markdown",
   "metadata": {}
  },
  {
   "cell_type": "code",
   "execution_count": 5,
   "metadata": {},
   "outputs": [],
   "source": [
    "interactions_df.to_csv('../../clean-interactions.csv', index=False)"
   ]
  },
  {
   "source": [
    "## Red list (IUCN)\n",
    "\n"
   ],
   "cell_type": "markdown",
   "metadata": {}
  },
  {
   "cell_type": "code",
   "execution_count": 8,
   "metadata": {},
   "outputs": [
    {
     "output_type": "execute_result",
     "data": {
      "text/plain": [
       "       assessmentId  internalTaxonId                 scientificName  \\\n",
       "0            495630            10030              Hexanchus griseus   \n",
       "1            495907            10041            Heosemys annandalii   \n",
       "2            497499        132523146               Hubbsina turneri   \n",
       "3            497550            10267        Hungerfordia pelewensis   \n",
       "4            498476            10769            Ictalurus mexicanus   \n",
       "...             ...              ...                            ...   \n",
       "50245     197564498         64563550          Filicium thouarsianum   \n",
       "50246     197565732            46486         Melanophylla angustior   \n",
       "50247     197569838            46489  Melanophylla madagascariensis   \n",
       "50248     197570616            46490          Melanophylla modestei   \n",
       "50249     197818455        178290276       Pycnopodia helianthoides   \n",
       "\n",
       "             redlistCategory                     redlistCriteria  \\\n",
       "0            Near Threatened                                A2bd   \n",
       "1      Critically Endangered                            A2cd+4cd   \n",
       "2      Critically Endangered  B1ab(i,ii,iii,iv)+2ab(i,ii,iii,iv)   \n",
       "3                 Endangered            B1ab(ii,iii)+2ab(ii,iii)   \n",
       "4                 Vulnerable                                  D2   \n",
       "...                      ...                                 ...   \n",
       "50245        Near Threatened                      B2ab(i,ii,iii)   \n",
       "50246             Endangered                 A3c; B2ab(ii,iii,v)   \n",
       "50247             Endangered                  B1ab(iii)+2ab(iii)   \n",
       "50248             Endangered              A3c; B2ab(ii,iii,iv,v)   \n",
       "50249  Critically Endangered                               A2ace   \n",
       "\n",
       "       yearPublished           assessmentDate  criteriaVersion language  \\\n",
       "0               2020  2019-11-21 00:00:00 UTC              3.1  English   \n",
       "1               2021  2018-03-13 00:00:00 UTC              3.1  English   \n",
       "2               2019  2018-04-17 00:00:00 UTC              3.1  English   \n",
       "3               2012  2011-08-22 00:00:00 UTC              3.1  English   \n",
       "4               2019  2018-12-06 00:00:00 UTC              3.1  English   \n",
       "...              ...                      ...              ...      ...   \n",
       "50245           2020  2020-03-28 00:00:00 UTC              3.1  English   \n",
       "50246           2020  2020-06-17 00:00:00 UTC              3.1  English   \n",
       "50247           2020  2020-03-26 00:00:00 UTC              3.1  English   \n",
       "50248           2020  2020-03-25 00:00:00 UTC              3.1  English   \n",
       "50249           2021  2020-08-26 00:00:00 UTC              3.1  English   \n",
       "\n",
       "                                               rationale  ... populationTrend  \\\n",
       "0      <p>The&#160;Bluntnose Sixgill Shark (<em>Hexan...  ...      Decreasing   \n",
       "1      <p><em>Heosemys annandalii</em> is considered ...  ...      Decreasing   \n",
       "2      The Highland Splitfin is now only known to be ...  ...      Decreasing   \n",
       "3      <p><span lang=\"EN-US\">In recent surveys, the s...  ...         Unknown   \n",
       "4      <em>I. mexicanus </em>is herein categorized as...  ...         Unknown   \n",
       "...                                                  ...  ...             ...   \n",
       "50245  <em>Filicium</em> <em>thouarsianum </em>is<em>...  ...      Decreasing   \n",
       "50246  <em>Melanophylla</em> <em>angustior,</em> smal...  ...      Decreasing   \n",
       "50247  <em><em><em><em>Melanophylla</em> <em>madagasc...  ...      Decreasing   \n",
       "50248  <em>Melanophylla</em> <em>modestei </em>is a t...  ...      Decreasing   \n",
       "50249  <em>Pycnopodia helianthoides</em> has experien...  ...      Decreasing   \n",
       "\n",
       "                                                   range  \\\n",
       "0      The Bluntnose Sixgill Shark has a widespread, ...   \n",
       "1      <p>The range of <em>Heosemys annandalii</em> i...   \n",
       "2      The Highland Splitfin is a freshwater fish spe...   \n",
       "3      <p><span lang=\"EN-US\">This is a land snail end...   \n",
       "4      <p><em>Ictalurus mexicanus</em> is a species e...   \n",
       "...                                                  ...   \n",
       "50245  <em>Filicium</em> <em>thouarsianum</em>&#160;i...   \n",
       "50246  <em>Melanophylla</em> <em>angustior</em> endem...   \n",
       "50247  <em>Melanophylla</em> <em>madagascariensis </e...   \n",
       "50248  <em>Melanophylla</em> <em>modestei </em>is end...   \n",
       "50249  <strong>Range Description<br/></strong><em>Pyc...   \n",
       "\n",
       "                                                useTrade  \\\n",
       "0      <p>The species is utilized for its meat, liver...   \n",
       "1      The species is collected for local consumption...   \n",
       "2      The Highland Splitfin is not a target species ...   \n",
       "3                          This species is not utilized.   \n",
       "4                This species is not utilised or traded.   \n",
       "...                                                  ...   \n",
       "50245  There is no reported use information for the s...   \n",
       "50246  There is no reported use information of this s...   \n",
       "50247  There is no reported use information for this ...   \n",
       "50248  There is no reported use information for this ...   \n",
       "50249  No targeted fisheries exist for <em>Pycnopodia...   \n",
       "\n",
       "                                       systems  \\\n",
       "0                                       Marine   \n",
       "1      Terrestrial|Freshwater (=Inland waters)   \n",
       "2                  Freshwater (=Inland waters)   \n",
       "3                                  Terrestrial   \n",
       "4                  Freshwater (=Inland waters)   \n",
       "...                                        ...   \n",
       "50245                              Terrestrial   \n",
       "50246                              Terrestrial   \n",
       "50247                              Terrestrial   \n",
       "50248                              Terrestrial   \n",
       "50249                                   Marine   \n",
       "\n",
       "                                     conservationActions         realm  \\\n",
       "0      <p>Since 2010, the European Union Fisheries Co...           NaN   \n",
       "1      <p><em>Heosemys annandalii </em>is included in...   Indomalayan   \n",
       "2      No conservation actions targeting&#160;<em>Hub...   Neotropical   \n",
       "3      <p>  </p><p>  </p><p>Field work to define the ...      Oceanian   \n",
       "4      <p>In Mexico,&#160;<em>Ictalurus mexicanus</em...   Neotropical   \n",
       "...                                                  ...           ...   \n",
       "50245  The species occurs in <span class=\"ItemText\">A...  Afrotropical   \n",
       "50246  There are two subpopulations known for the spe...  Afrotropical   \n",
       "50247  One known subpopulation is recorded within Bet...  Afrotropical   \n",
       "50248  The species is known from Makira and Masoala p...  Afrotropical   \n",
       "50249  <strong>Determining the Cause of SSWS<br/></st...           NaN   \n",
       "\n",
       "      yearLastSeen possiblyExtinct possiblyExtinctInTheWild  scopes  \n",
       "0              NaN           False                    False  Global  \n",
       "1              NaN           False                    False  Global  \n",
       "2              NaN           False                    False  Global  \n",
       "3              NaN           False                    False  Global  \n",
       "4              NaN           False                    False  Global  \n",
       "...            ...             ...                      ...     ...  \n",
       "50245          NaN           False                    False  Global  \n",
       "50246          NaN           False                    False  Global  \n",
       "50247          NaN           False                    False  Global  \n",
       "50248          NaN           False                    False  Global  \n",
       "50249          NaN           False                    False  Global  \n",
       "\n",
       "[50250 rows x 23 columns]"
      ],
      "text/html": "<div>\n<style scoped>\n    .dataframe tbody tr th:only-of-type {\n        vertical-align: middle;\n    }\n\n    .dataframe tbody tr th {\n        vertical-align: top;\n    }\n\n    .dataframe thead th {\n        text-align: right;\n    }\n</style>\n<table border=\"1\" class=\"dataframe\">\n  <thead>\n    <tr style=\"text-align: right;\">\n      <th></th>\n      <th>assessmentId</th>\n      <th>internalTaxonId</th>\n      <th>scientificName</th>\n      <th>redlistCategory</th>\n      <th>redlistCriteria</th>\n      <th>yearPublished</th>\n      <th>assessmentDate</th>\n      <th>criteriaVersion</th>\n      <th>language</th>\n      <th>rationale</th>\n      <th>...</th>\n      <th>populationTrend</th>\n      <th>range</th>\n      <th>useTrade</th>\n      <th>systems</th>\n      <th>conservationActions</th>\n      <th>realm</th>\n      <th>yearLastSeen</th>\n      <th>possiblyExtinct</th>\n      <th>possiblyExtinctInTheWild</th>\n      <th>scopes</th>\n    </tr>\n  </thead>\n  <tbody>\n    <tr>\n      <th>0</th>\n      <td>495630</td>\n      <td>10030</td>\n      <td>Hexanchus griseus</td>\n      <td>Near Threatened</td>\n      <td>A2bd</td>\n      <td>2020</td>\n      <td>2019-11-21 00:00:00 UTC</td>\n      <td>3.1</td>\n      <td>English</td>\n      <td>&lt;p&gt;The&amp;#160;Bluntnose Sixgill Shark (&lt;em&gt;Hexan...</td>\n      <td>...</td>\n      <td>Decreasing</td>\n      <td>The Bluntnose Sixgill Shark has a widespread, ...</td>\n      <td>&lt;p&gt;The species is utilized for its meat, liver...</td>\n      <td>Marine</td>\n      <td>&lt;p&gt;Since 2010, the European Union Fisheries Co...</td>\n      <td>NaN</td>\n      <td>NaN</td>\n      <td>False</td>\n      <td>False</td>\n      <td>Global</td>\n    </tr>\n    <tr>\n      <th>1</th>\n      <td>495907</td>\n      <td>10041</td>\n      <td>Heosemys annandalii</td>\n      <td>Critically Endangered</td>\n      <td>A2cd+4cd</td>\n      <td>2021</td>\n      <td>2018-03-13 00:00:00 UTC</td>\n      <td>3.1</td>\n      <td>English</td>\n      <td>&lt;p&gt;&lt;em&gt;Heosemys annandalii&lt;/em&gt; is considered ...</td>\n      <td>...</td>\n      <td>Decreasing</td>\n      <td>&lt;p&gt;The range of &lt;em&gt;Heosemys annandalii&lt;/em&gt; i...</td>\n      <td>The species is collected for local consumption...</td>\n      <td>Terrestrial|Freshwater (=Inland waters)</td>\n      <td>&lt;p&gt;&lt;em&gt;Heosemys annandalii &lt;/em&gt;is included in...</td>\n      <td>Indomalayan</td>\n      <td>NaN</td>\n      <td>False</td>\n      <td>False</td>\n      <td>Global</td>\n    </tr>\n    <tr>\n      <th>2</th>\n      <td>497499</td>\n      <td>132523146</td>\n      <td>Hubbsina turneri</td>\n      <td>Critically Endangered</td>\n      <td>B1ab(i,ii,iii,iv)+2ab(i,ii,iii,iv)</td>\n      <td>2019</td>\n      <td>2018-04-17 00:00:00 UTC</td>\n      <td>3.1</td>\n      <td>English</td>\n      <td>The Highland Splitfin is now only known to be ...</td>\n      <td>...</td>\n      <td>Decreasing</td>\n      <td>The Highland Splitfin is a freshwater fish spe...</td>\n      <td>The Highland Splitfin is not a target species ...</td>\n      <td>Freshwater (=Inland waters)</td>\n      <td>No conservation actions targeting&amp;#160;&lt;em&gt;Hub...</td>\n      <td>Neotropical</td>\n      <td>NaN</td>\n      <td>False</td>\n      <td>False</td>\n      <td>Global</td>\n    </tr>\n    <tr>\n      <th>3</th>\n      <td>497550</td>\n      <td>10267</td>\n      <td>Hungerfordia pelewensis</td>\n      <td>Endangered</td>\n      <td>B1ab(ii,iii)+2ab(ii,iii)</td>\n      <td>2012</td>\n      <td>2011-08-22 00:00:00 UTC</td>\n      <td>3.1</td>\n      <td>English</td>\n      <td>&lt;p&gt;&lt;span lang=\"EN-US\"&gt;In recent surveys, the s...</td>\n      <td>...</td>\n      <td>Unknown</td>\n      <td>&lt;p&gt;&lt;span lang=\"EN-US\"&gt;This is a land snail end...</td>\n      <td>This species is not utilized.</td>\n      <td>Terrestrial</td>\n      <td>&lt;p&gt;  &lt;/p&gt;&lt;p&gt;  &lt;/p&gt;&lt;p&gt;Field work to define the ...</td>\n      <td>Oceanian</td>\n      <td>NaN</td>\n      <td>False</td>\n      <td>False</td>\n      <td>Global</td>\n    </tr>\n    <tr>\n      <th>4</th>\n      <td>498476</td>\n      <td>10769</td>\n      <td>Ictalurus mexicanus</td>\n      <td>Vulnerable</td>\n      <td>D2</td>\n      <td>2019</td>\n      <td>2018-12-06 00:00:00 UTC</td>\n      <td>3.1</td>\n      <td>English</td>\n      <td>&lt;em&gt;I. mexicanus &lt;/em&gt;is herein categorized as...</td>\n      <td>...</td>\n      <td>Unknown</td>\n      <td>&lt;p&gt;&lt;em&gt;Ictalurus mexicanus&lt;/em&gt; is a species e...</td>\n      <td>This species is not utilised or traded.</td>\n      <td>Freshwater (=Inland waters)</td>\n      <td>&lt;p&gt;In Mexico,&amp;#160;&lt;em&gt;Ictalurus mexicanus&lt;/em...</td>\n      <td>Neotropical</td>\n      <td>NaN</td>\n      <td>False</td>\n      <td>False</td>\n      <td>Global</td>\n    </tr>\n    <tr>\n      <th>...</th>\n      <td>...</td>\n      <td>...</td>\n      <td>...</td>\n      <td>...</td>\n      <td>...</td>\n      <td>...</td>\n      <td>...</td>\n      <td>...</td>\n      <td>...</td>\n      <td>...</td>\n      <td>...</td>\n      <td>...</td>\n      <td>...</td>\n      <td>...</td>\n      <td>...</td>\n      <td>...</td>\n      <td>...</td>\n      <td>...</td>\n      <td>...</td>\n      <td>...</td>\n      <td>...</td>\n    </tr>\n    <tr>\n      <th>50245</th>\n      <td>197564498</td>\n      <td>64563550</td>\n      <td>Filicium thouarsianum</td>\n      <td>Near Threatened</td>\n      <td>B2ab(i,ii,iii)</td>\n      <td>2020</td>\n      <td>2020-03-28 00:00:00 UTC</td>\n      <td>3.1</td>\n      <td>English</td>\n      <td>&lt;em&gt;Filicium&lt;/em&gt; &lt;em&gt;thouarsianum &lt;/em&gt;is&lt;em&gt;...</td>\n      <td>...</td>\n      <td>Decreasing</td>\n      <td>&lt;em&gt;Filicium&lt;/em&gt; &lt;em&gt;thouarsianum&lt;/em&gt;&amp;#160;i...</td>\n      <td>There is no reported use information for the s...</td>\n      <td>Terrestrial</td>\n      <td>The species occurs in &lt;span class=\"ItemText\"&gt;A...</td>\n      <td>Afrotropical</td>\n      <td>NaN</td>\n      <td>False</td>\n      <td>False</td>\n      <td>Global</td>\n    </tr>\n    <tr>\n      <th>50246</th>\n      <td>197565732</td>\n      <td>46486</td>\n      <td>Melanophylla angustior</td>\n      <td>Endangered</td>\n      <td>A3c; B2ab(ii,iii,v)</td>\n      <td>2020</td>\n      <td>2020-06-17 00:00:00 UTC</td>\n      <td>3.1</td>\n      <td>English</td>\n      <td>&lt;em&gt;Melanophylla&lt;/em&gt; &lt;em&gt;angustior,&lt;/em&gt; smal...</td>\n      <td>...</td>\n      <td>Decreasing</td>\n      <td>&lt;em&gt;Melanophylla&lt;/em&gt; &lt;em&gt;angustior&lt;/em&gt; endem...</td>\n      <td>There is no reported use information of this s...</td>\n      <td>Terrestrial</td>\n      <td>There are two subpopulations known for the spe...</td>\n      <td>Afrotropical</td>\n      <td>NaN</td>\n      <td>False</td>\n      <td>False</td>\n      <td>Global</td>\n    </tr>\n    <tr>\n      <th>50247</th>\n      <td>197569838</td>\n      <td>46489</td>\n      <td>Melanophylla madagascariensis</td>\n      <td>Endangered</td>\n      <td>B1ab(iii)+2ab(iii)</td>\n      <td>2020</td>\n      <td>2020-03-26 00:00:00 UTC</td>\n      <td>3.1</td>\n      <td>English</td>\n      <td>&lt;em&gt;&lt;em&gt;&lt;em&gt;&lt;em&gt;Melanophylla&lt;/em&gt; &lt;em&gt;madagasc...</td>\n      <td>...</td>\n      <td>Decreasing</td>\n      <td>&lt;em&gt;Melanophylla&lt;/em&gt; &lt;em&gt;madagascariensis &lt;/e...</td>\n      <td>There is no reported use information for this ...</td>\n      <td>Terrestrial</td>\n      <td>One known subpopulation is recorded within Bet...</td>\n      <td>Afrotropical</td>\n      <td>NaN</td>\n      <td>False</td>\n      <td>False</td>\n      <td>Global</td>\n    </tr>\n    <tr>\n      <th>50248</th>\n      <td>197570616</td>\n      <td>46490</td>\n      <td>Melanophylla modestei</td>\n      <td>Endangered</td>\n      <td>A3c; B2ab(ii,iii,iv,v)</td>\n      <td>2020</td>\n      <td>2020-03-25 00:00:00 UTC</td>\n      <td>3.1</td>\n      <td>English</td>\n      <td>&lt;em&gt;Melanophylla&lt;/em&gt; &lt;em&gt;modestei &lt;/em&gt;is a t...</td>\n      <td>...</td>\n      <td>Decreasing</td>\n      <td>&lt;em&gt;Melanophylla&lt;/em&gt; &lt;em&gt;modestei &lt;/em&gt;is end...</td>\n      <td>There is no reported use information for this ...</td>\n      <td>Terrestrial</td>\n      <td>The species is known from Makira and Masoala p...</td>\n      <td>Afrotropical</td>\n      <td>NaN</td>\n      <td>False</td>\n      <td>False</td>\n      <td>Global</td>\n    </tr>\n    <tr>\n      <th>50249</th>\n      <td>197818455</td>\n      <td>178290276</td>\n      <td>Pycnopodia helianthoides</td>\n      <td>Critically Endangered</td>\n      <td>A2ace</td>\n      <td>2021</td>\n      <td>2020-08-26 00:00:00 UTC</td>\n      <td>3.1</td>\n      <td>English</td>\n      <td>&lt;em&gt;Pycnopodia helianthoides&lt;/em&gt; has experien...</td>\n      <td>...</td>\n      <td>Decreasing</td>\n      <td>&lt;strong&gt;Range Description&lt;br/&gt;&lt;/strong&gt;&lt;em&gt;Pyc...</td>\n      <td>No targeted fisheries exist for &lt;em&gt;Pycnopodia...</td>\n      <td>Marine</td>\n      <td>&lt;strong&gt;Determining the Cause of SSWS&lt;br/&gt;&lt;/st...</td>\n      <td>NaN</td>\n      <td>NaN</td>\n      <td>False</td>\n      <td>False</td>\n      <td>Global</td>\n    </tr>\n  </tbody>\n</table>\n<p>50250 rows × 23 columns</p>\n</div>"
     },
     "metadata": {},
     "execution_count": 8
    }
   ],
   "source": [
    "redlist_df = pd.read_csv('../../redlist_species_data_83aad1b1-09d6-4283-b629-0ccacb10797b/assessments.csv')\n",
    "redlist_df"
   ]
  }
 ]
}